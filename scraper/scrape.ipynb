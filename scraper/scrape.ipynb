{
 "cells": [
  {
   "cell_type": "code",
   "execution_count": null,
   "metadata": {},
   "outputs": [],
   "source": [
    "# download on url page to html \n",
    "\n",
    "# find all the links that go out \n",
    "\n",
    "# keep a "
   ]
  },
  {
   "cell_type": "code",
   "execution_count": 24,
   "metadata": {},
   "outputs": [
    {
     "data": {
      "text/plain": [
       "'c:\\\\Users\\\\henry\\\\avacacode\\\\scrape-to-dir'"
      ]
     },
     "execution_count": 24,
     "metadata": {},
     "output_type": "execute_result"
    }
   ],
   "source": [
    "from urllib.request import urlretrieve\n",
    "import os\n",
    " \n",
    "os.getcwd()"
   ]
  },
  {
   "cell_type": "code",
   "execution_count": null,
   "metadata": {},
   "outputs": [],
   "source": [
    "os.getw"
   ]
  },
  {
   "cell_type": "code",
   "execution_count": 89,
   "metadata": {},
   "outputs": [
    {
     "data": {
      "text/plain": [
       "('./data/inside.html', <http.client.HTTPMessage at 0x2965a86a250>)"
      ]
     },
     "execution_count": 89,
     "metadata": {},
     "output_type": "execute_result"
    }
   ],
   "source": [
    "import urllib.request\n",
    "from urllib.parse import urlparse\n",
    "\n",
    "host = \"https://inside.bard.edu/academic/courses/fall2024/lit2courses.html\"\n",
    "header = {\n",
    "    'User-Agent': 'Mozilla/5.0 (Macintosh; Intel Mac OS X 10_9_3) AppleWebKit/537.36 (KHTML, like Gecko) Chrome/35.0.1916.47 Safari/537.36'\n",
    "}\n",
    "rel_route = \"/inside\"\n",
    "url = host + rel_route \n",
    "\n",
    "\n",
    "\n",
    "opener = urllib.request.build_opener()\n",
    "opener.addheaders = [('User-agent', 'Mozilla/5.0')]\n",
    "urllib.request.install_opener(opener)\n",
    "urllib.request.urlretrieve(url, f\"./data{rel_route}.html\")"
   ]
  },
  {
   "cell_type": "code",
   "execution_count": 90,
   "metadata": {},
   "outputs": [],
   "source": [
    "html_file_path = \"data/inside.html\"\n",
    "\n",
    "\n",
    "from bs4 import BeautifulSoup\n",
    "with open(html_file_path, encoding=\"utf8\") as fp:\n",
    "    soup = BeautifulSoup(fp, 'html.parser')"
   ]
  },
  {
   "cell_type": "code",
   "execution_count": 94,
   "metadata": {},
   "outputs": [
    {
     "name": "stdout",
     "output_type": "stream",
     "text": [
      "180\n",
      "['#main', 'https://www.bard.edu/inside/', 'https://alums.bard.edu', 'https://families.bard.edu', 'https://www.bard.edu/students/', 'https://www.bard.edu/', 'https://www.bard.edu/', '#', 'https://www.bard.edu/academics/', 'https://www.bard.edu/academics/', 'https://www.bard.edu/academics/programs/', 'https://www.bard.edu/academics/curriculum/', 'https://www.bard.edu/academics/courses/', 'https://www.bard.edu/academics/requirements/', 'https://www.bard.edu/academics/calendar/', 'https://www.bard.edu/academics/faculty/', 'https://www.bard.edu/catalogue/', 'https://www.bard.edu/bardabroad/', 'https://www.bard.edu/academics/libraries/', 'https://www.bard.edu/academics/dual/', 'https://www.bard.edu/conservatory/', 'https://www.bard.edu/academics/additional/', 'https://www.bard.edu/graduate/', 'https://bhsec.bard.edu/', '#', 'https://www.bard.edu/admission/', 'https://www.bard.edu/admission/applying/', 'https://www.bard.edu/admission/applying/', 'https://www.bard.edu/financialaid/', 'https://www.bard.edu/studentaccounts/', 'https://www.bard.edu/admission/tours/', 'https://www.bard.edu/admission/students/', 'https://www.bard.edu/admission/families/', 'https://www.bard.edu/admission/families/es/', 'https://www.bard.edu/admission/inquiries/form/', 'https://www.bard.edu/admission/contact/', 'https://www.instagram.com/bardadmission/', '#', 'https://www.bard.edu/campus/', 'https://www.bard.edu/campus/', 'https://www.bard.edu/campus/reslife/', 'https://www.bard.edu/campus/services/', 'https://www.bard.edu/campus/activities/', 'https://www.bard.edu/visiting/', 'https://bardathletics.com/', 'https://www.bard.edu/montgomeryplace/', 'https://www.bard.edu/students/', 'https://www.bard.edu/campus/newstudents/', '#', 'https://cce.bard.edu/', 'https://cce.bard.edu/get-involved/', 'https://cce.bard.edu/engaged-learning/', 'https://cce.bard.edu/student-leadership/', 'https://cce.bard.edu/network/', 'https://cce.bard.edu/about/', 'https://cce.bard.edu/partners/', '#', 'https://www.bard.edu/news/', 'https://www.bard.edu/news/', 'https://www.bard.edu/news/events/', 'https://www.bard.edu/news/releases/', 'https://www.bard.edu/communications/', 'https://www.bard.edu/commencement/', 'https://www.bard.edu/reunion/', 'https://fishercenter.bard.edu/', 'https://families.bard.edu/family-weekend/', 'https://bardathletics.com/', 'https://www.facebook.com/bardcollegeny/', 'https://twitter.com/bardcollege', 'https://www.instagram.com/bardcollege/', 'https://www.threads.net/@bardcollege', 'https://www.youtube.com/user/bardwebvideo', '#', 'https://www.bard.edu/about/', 'https://www.bard.edu/about/', 'https://www.bard.edu/about/history/', 'https://www.bard.edu/admission/tours/', 'https://www.bard.edu/employment/', 'https://www.bard.edu/visiting/', 'https://giving.bard.edu/', 'https://www.bard.edu/about/diversity/', 'https://bos.bard.edu/', 'https://www.bard.edu/nondiscrimination/', 'https://www.bard.edu/trustees/', 'https://www.bard.edu/bardabroad/', 'https://opensocietyuniversitynetwork.org', 'https://www.bard.edu/network/', 'https://bardian.bard.edu/register/bcf', 'https://www.bard.edu/search/', 'https://www.bard.edu/inside/', '', 'https://mail.google.com', 'https://account.bard.edu', 'https://inside.bard.edu/academic/courses/current/', 'https://bardcollege.brightspace.com', 'https://www.bard.edu/library/', 'https://bip.bard.edu', 'https://bard.bncollege.com/webapp/wcs/stores/servlet/BNCBHomePage?storeId=43056&catalogId=10001&langId=-1', 'https://tools.bard.edu/', 'https://space.bard.edu', 'https://fms.bard.edu/', 'https://bard.regroup.com/', '', 'https://www.bard.edu/av/', 'https://www.bard.edu/bandg/', 'https://www.bard.edu/library/', 'https://www.bard.edu/csla/', 'https://www.bard.edu/doc/', 'https://www.bard.edu/dosa/', 'https://www.bard.edu/deanofstudies/', 'https://www.bard.edu/mailing-shipping/', 'https://www.bard.edu/institutionalsupport/', 'https://www.bard.edu/campus/departments/risk-management', 'https://www.bard.edu/security/', 'https://www.bard.edu/studentaccounts/', 'https://studentactivities.bard.edu', 'https://www.bard.edu/it/telecom/', 'https://www.bard.edu/titleix/', 'https://blogs.bard.edu/transportation/', 'https://www.bard.edu/inside/events/', 'https://www.bard.edu/inside/events/', 'https://space.bard.edu/', 'https://www.bard.edu/news/events/submit/', 'https://www.bard.edu/inside/calendar/search/', 'https://www.bard.edu/search/index.php?q=&searchTab=2', 'https://tools.bard.edu/tools/', 'https://www.bard.edu/humanresources/', 'https://mail.google.com', 'https://inside.bard.edu/academic/courses/current/', 'https://www.bard.edu/news/news/', 'https://www.bard.edu/news/details/?id=20012', 'https://www.bard.edu/news/details/?id=20013', 'https://www.bard.edu/news/details/?id=20014', 'https://www.bard.edu/news/details/?id=19999', 'https://www.bard.edu/news/details/?id=20002', 'https://www.bard.edu/inside/calendar/event/?eid=147282&date=1715432400', 'https://www.bard.edu/inside/calendar/event/?eid=145034&date=1715522400', 'https://www.bard.edu/inside/calendar/event/?eid=146919&date=1715526000', 'https://ccs.bard.edu/museum/exhibitions/730-spillover', 'https://www.bard.edu/inside/calendar/event/?eid=146105&date=1715529600', 'https://www.bard.edu/inside/calendar/', \"javascript:newseventsview('news5593_icon','news5593');\", '/cdn-cgi/l/email-protection', 'https://tools.bard.edu/tools/classifieds/', \"javascript:newseventsview('news5610_icon','news5610');\", \"javascript:viewImage('1189734395.jpg', '4608', '3456');\", 'https://tools.bard.edu/tools/classifieds/', \"javascript:newseventsview('news5614_icon','news5614');\", \"javascript:viewImage('1752841700.jpg', '3456', '4608');\", 'https://tools.bard.edu/tools/classifieds/', \"javascript:newseventsview('news5613_icon','news5613');\", \"javascript:viewImage('1810516709.jpg', '4608', '3456');\", 'https://tools.bard.edu/tools/classifieds/', \"javascript:newseventsview('news5611_icon','news5611');\", \"javascript:viewImage('428432112.jpg', '4608', '3456');\", 'https://tools.bard.edu/tools/classifieds/', 'https://www.bard.edu/students/directory/', 'https://forecast7.com/en/42d02n73d90/12504/?unit=us', 'tel:1-845-758-6822', '/cdn-cgi/l/email-protection#29484d44405a5a404647694b485b4d074c4d5c', 'https://twitter.com/BARDCollege', 'https://www.facebook.com/BardCollegeNY', 'https://instagram.com/bardcollege/', 'https://www.threads.net/@bardcollege', 'https://www.youtube.com/user/bardwebvideo', 'https://www.bard.edu/admission/', 'https://www.bard.edu/employment/', 'https://alums.bard.edu', 'https://families.bard.edu', 'https://www.bard.edu/employment/employment/', 'https://www.bard.edu/visiting/directions/', 'https://www.bard.edu/search/', 'https://giving.bard.edu', 'https://www.bard.edu/covid19/', 'https://www.bard.edu/it/security/']\n"
     ]
    }
   ],
   "source": [
    "print(len(soup.find_all('a')))\n",
    "\n",
    "subpage_prefix = \"https://inside.bard.edu/\"\n",
    "\n",
    "url_pool = [ link.get('href') for link in soup.find_all('a', href=True) ] \n",
    "url_pool = [ url for url in url_pool if isinstance(url, str) and url.startswith(subpage_prefix)]\n",
    "\n",
    "print(url_pool)\n",
    "\n",
    "# downloaded_urls = []\n",
    "\n",
    "# def fname_from_url(url): \n",
    "#     return \"-\".join(urlparse(url).path.split(\"/\")[1:-1])\n",
    "\n",
    "# for url in url_pool: \n",
    "#     # print(url)\n",
    "#     if url in downloaded_urls: \n",
    "#         continue\n",
    "#     else:\n",
    "#         downloaded_urls.append(url)\n",
    "#         fname = fname_from_url(url)\n",
    "#         saved_path = f\"./data/{fname}.html\"\n",
    "\n",
    "#         try: \n",
    "#             urllib.request.urlretrieve(url, saved_path)\n",
    "#         except HTTPError as error:\n",
    "#             pass\n",
    "#         except URLError as error:  \n",
    "#             pass\n",
    "#         else:\n",
    "#             pass\n",
    "    \n",
    "\n",
    "#         # add urls from new html to pool\n",
    "#         with open(saved_path, encoding=\"utf8\") as fp:\n",
    "#             soup = BeautifulSoup(fp)\n",
    "#             for link in soup.find_all('a'):\n",
    "#                 url = link.get('href')\n",
    "#                 if url not in downloaded_urls:\n",
    "#                     url_pool.append(url)\n",
    "\n",
    "\n",
    "\n"
   ]
  },
  {
   "cell_type": "code",
   "execution_count": 77,
   "metadata": {},
   "outputs": [
    {
     "name": "stdout",
     "output_type": "stream",
     "text": [
      "181\n"
     ]
    }
   ],
   "source": [
    "print(len(downloaded_urls))\n"
   ]
  },
  {
   "cell_type": "code",
   "execution_count": 84,
   "metadata": {},
   "outputs": [
    {
     "data": {
      "text/plain": [
       "('./test.html', <http.client.HTTPMessage at 0x29659ceb0d0>)"
      ]
     },
     "execution_count": 84,
     "metadata": {},
     "output_type": "execute_result"
    }
   ],
   "source": [
    "url = \"https://www.bard.edu/fysem/\"\n",
    "\n",
    "opener = urllib.request.build_opener()\n",
    "opener.addheaders = [('User-agent', 'Mozilla/5.0')]\n",
    "urllib.request.install_opener(opener)\n",
    "urllib.request.urlretrieve(url, f\"./test.html\")"
   ]
  },
  {
   "cell_type": "code",
   "execution_count": null,
   "metadata": {},
   "outputs": [],
   "source": []
  }
 ],
 "metadata": {
  "language_info": {
   "name": "python"
  }
 },
 "nbformat": 4,
 "nbformat_minor": 2
}
